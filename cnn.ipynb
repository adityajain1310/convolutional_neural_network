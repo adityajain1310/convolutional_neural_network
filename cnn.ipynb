{
 "cells": [
  {
   "cell_type": "markdown",
   "metadata": {},
   "source": [
    "# Convolutional Neural Network\n",
    "\n",
    "Building the CNN\n",
    "\n",
    "Importing the keras libraries and packages"
   ]
  },
  {
   "cell_type": "code",
   "execution_count": 1,
   "metadata": {},
   "outputs": [],
   "source": [
    "import tensorflow as tf\n",
    "from tensorflow.keras.models import Sequential\n",
    "from tensorflow.keras.layers import Convolution2D\n",
    "from tensorflow.keras.layers import MaxPooling2D\n",
    "from tensorflow.keras.layers import Flatten\n",
    "from tensorflow.keras.layers import Dense"
   ]
  },
  {
   "cell_type": "markdown",
   "metadata": {},
   "source": [
    "Changing the working directory"
   ]
  },
  {
   "cell_type": "code",
   "execution_count": 2,
   "metadata": {},
   "outputs": [
    {
     "data": {
      "text/plain": [
       "'/home/aditya1310/Documents/ML/Machine Learning A-Z Template Folder/Part 8 - Deep Learning/Section 40 - Convolutional Neural Networks (CNN)/Convolutional_Neural_Networks'"
      ]
     },
     "execution_count": 2,
     "metadata": {},
     "output_type": "execute_result"
    }
   ],
   "source": [
    "import os\n",
    "os.getcwd()\n",
    "os.chdir('/home/aditya1310/Documents/ML/Machine Learning A-Z Template Folder/Part 8 - Deep Learning/Section 40 - Convolutional Neural Networks (CNN)/Convolutional_Neural_Networks')\n",
    "os.getcwd()"
   ]
  },
  {
   "cell_type": "markdown",
   "metadata": {},
   "source": [
    "Initialising the CNN"
   ]
  },
  {
   "cell_type": "code",
   "execution_count": 3,
   "metadata": {},
   "outputs": [],
   "source": [
    "classifier = Sequential()"
   ]
  },
  {
   "cell_type": "markdown",
   "metadata": {},
   "source": [
    "Step 1: Convolution"
   ]
  },
  {
   "cell_type": "code",
   "execution_count": 4,
   "metadata": {},
   "outputs": [
    {
     "name": "stderr",
     "output_type": "stream",
     "text": [
      "WARNING: Logging before flag parsing goes to stderr.\n",
      "W0826 15:22:13.527505 140269641361216 deprecation.py:506] From /home/aditya1310/anaconda3/lib/python3.7/site-packages/tensorflow/python/ops/init_ops.py:1251: calling VarianceScaling.__init__ (from tensorflow.python.ops.init_ops) with dtype is deprecated and will be removed in a future version.\n",
      "Instructions for updating:\n",
      "Call initializer instance with the dtype argument instead of passing it to the constructor\n"
     ]
    }
   ],
   "source": [
    "classifier.add(Convolution2D(32, 3, 3, input_shape = (64, 64, 3), activation = 'relu'))"
   ]
  },
  {
   "cell_type": "markdown",
   "metadata": {},
   "source": [
    "Step 2: Pooling"
   ]
  },
  {
   "cell_type": "code",
   "execution_count": 5,
   "metadata": {},
   "outputs": [],
   "source": [
    "classifier.add(MaxPooling2D(pool_size = (2, 2)))"
   ]
  },
  {
   "cell_type": "markdown",
   "metadata": {},
   "source": [
    "Adding a another Convolution layer and pooling from which the differnce between accuracy of test set and training set can reduced up to some extent and give us better result"
   ]
  },
  {
   "cell_type": "code",
   "execution_count": 6,
   "metadata": {},
   "outputs": [],
   "source": [
    "classifier.add(Convolution2D(32, 3, 3, activation = 'relu'))\n",
    "classifier.add(MaxPooling2D(pool_size = (2, 2)))"
   ]
  },
  {
   "cell_type": "markdown",
   "metadata": {},
   "source": [
    "Step 3: Flattening"
   ]
  },
  {
   "cell_type": "code",
   "execution_count": 7,
   "metadata": {},
   "outputs": [],
   "source": [
    "classifier.add(Flatten())"
   ]
  },
  {
   "cell_type": "markdown",
   "metadata": {},
   "source": [
    "Step 4: Full Connection"
   ]
  },
  {
   "cell_type": "code",
   "execution_count": 8,
   "metadata": {},
   "outputs": [],
   "source": [
    "classifier.add(Dense(units = 128, activation = 'relu'))\n",
    "classifier.add(Dense(units = 1, activation = 'sigmoid'))"
   ]
  },
  {
   "cell_type": "markdown",
   "metadata": {},
   "source": [
    "Compiling the CNN"
   ]
  },
  {
   "cell_type": "code",
   "execution_count": 9,
   "metadata": {},
   "outputs": [
    {
     "name": "stderr",
     "output_type": "stream",
     "text": [
      "W0826 15:22:27.446084 140269641361216 deprecation.py:323] From /home/aditya1310/anaconda3/lib/python3.7/site-packages/tensorflow/python/ops/nn_impl.py:180: add_dispatch_support.<locals>.wrapper (from tensorflow.python.ops.array_ops) is deprecated and will be removed in a future version.\n",
      "Instructions for updating:\n",
      "Use tf.where in 2.0, which has the same broadcast rule as np.where\n"
     ]
    }
   ],
   "source": [
    "classifier.compile(optimizer = 'adam', loss = 'binary_crossentropy', metrics = ['accuracy'])"
   ]
  },
  {
   "cell_type": "markdown",
   "metadata": {},
   "source": [
    "Part 2: Fitting the CNN to the images"
   ]
  },
  {
   "cell_type": "code",
   "execution_count": 10,
   "metadata": {},
   "outputs": [],
   "source": [
    "from tensorflow.keras.preprocessing.image import ImageDataGenerator"
   ]
  },
  {
   "cell_type": "code",
   "execution_count": 11,
   "metadata": {},
   "outputs": [],
   "source": [
    "train_datagen = ImageDataGenerator(\n",
    "        rescale = 1./255,\n",
    "        shear_range = 0.2,\n",
    "        zoom_range = 0.2,\n",
    "        horizontal_flip = True)"
   ]
  },
  {
   "cell_type": "code",
   "execution_count": 12,
   "metadata": {},
   "outputs": [],
   "source": [
    "test_datagen = ImageDataGenerator(rescale = 1./255)"
   ]
  },
  {
   "cell_type": "code",
   "execution_count": 13,
   "metadata": {},
   "outputs": [
    {
     "name": "stdout",
     "output_type": "stream",
     "text": [
      "Found 8000 images belonging to 2 classes.\n"
     ]
    }
   ],
   "source": [
    "training_set = train_datagen.flow_from_directory('dataset/training_set',\n",
    "                                                 target_size = (64, 64),\n",
    "                                                 batch_size = 32,\n",
    "                                                 class_mode = 'binary')"
   ]
  },
  {
   "cell_type": "code",
   "execution_count": 14,
   "metadata": {},
   "outputs": [
    {
     "name": "stdout",
     "output_type": "stream",
     "text": [
      "Found 2000 images belonging to 2 classes.\n"
     ]
    }
   ],
   "source": [
    "test_set = test_datagen.flow_from_directory('dataset/test_set',\n",
    "                                            target_size = (64, 64),\n",
    "                                            batch_size = 32,\n",
    "                                            class_mode = 'binary')"
   ]
  },
  {
   "cell_type": "code",
   "execution_count": 14,
   "metadata": {},
   "outputs": [
    {
     "name": "stdout",
     "output_type": "stream",
     "text": [
      "Epoch 1/25\n",
      "8000/8000 [==============================] - 1493s 187ms/step - loss: 0.4654 - acc: 0.7725 - val_loss: 0.5265 - val_acc: 0.7755\n",
      "Epoch 2/25\n",
      "8000/8000 [==============================] - 1450s 181ms/step - loss: 0.2883 - acc: 0.8760 - val_loss: 0.6710 - val_acc: 0.7724\n",
      "Epoch 3/25\n",
      "8000/8000 [==============================] - 2101s 263ms/step - loss: 0.1691 - acc: 0.9327 - val_loss: 0.9185 - val_acc: 0.7736\n",
      "Epoch 4/25\n",
      "8000/8000 [==============================] - 2040s 255ms/step - loss: 0.1120 - acc: 0.9570 - val_loss: 1.2275 - val_acc: 0.7527\n",
      "Epoch 5/25\n",
      "8000/8000 [==============================] - 1490s 186ms/step - loss: 0.0841 - acc: 0.9686 - val_loss: 1.2475 - val_acc: 0.7654\n",
      "Epoch 6/25\n",
      "8000/8000 [==============================] - 1399s 175ms/step - loss: 0.0683 - acc: 0.9749 - val_loss: 1.4391 - val_acc: 0.7580\n",
      "Epoch 7/25\n",
      "8000/8000 [==============================] - 1401s 175ms/step - loss: 0.0574 - acc: 0.9794 - val_loss: 1.5030 - val_acc: 0.7675\n",
      "Epoch 8/25\n",
      "8000/8000 [==============================] - 1403s 175ms/step - loss: 0.0508 - acc: 0.9818 - val_loss: 1.8075 - val_acc: 0.7495\n",
      "Epoch 9/25\n",
      "8000/8000 [==============================] - 1394s 174ms/step - loss: 0.0444 - acc: 0.9842 - val_loss: 1.7221 - val_acc: 0.7740\n",
      "Epoch 10/25\n",
      "8000/8000 [==============================] - 1403s 175ms/step - loss: 0.0408 - acc: 0.9858 - val_loss: 1.8163 - val_acc: 0.7556\n",
      "Epoch 11/25\n",
      "8000/8000 [==============================] - 1409s 176ms/step - loss: 0.0376 - acc: 0.9870 - val_loss: 2.1347 - val_acc: 0.7524\n",
      "Epoch 12/25\n",
      "8000/8000 [==============================] - 1421s 178ms/step - loss: 0.0338 - acc: 0.9883 - val_loss: 2.1121 - val_acc: 0.7490\n",
      "Epoch 13/25\n",
      "8000/8000 [==============================] - 1406s 176ms/step - loss: 0.0312 - acc: 0.9895 - val_loss: 2.1843 - val_acc: 0.7530\n",
      "Epoch 14/25\n",
      "8000/8000 [==============================] - 1403s 175ms/step - loss: 0.0299 - acc: 0.9896 - val_loss: 2.2663 - val_acc: 0.7497\n",
      "Epoch 15/25\n",
      "8000/8000 [==============================] - 1403s 175ms/step - loss: 0.0273 - acc: 0.9906 - val_loss: 2.2573 - val_acc: 0.7566\n",
      "Epoch 16/25\n",
      "8000/8000 [==============================] - 1397s 175ms/step - loss: 0.0270 - acc: 0.9910 - val_loss: 2.3569 - val_acc: 0.7388\n",
      "Epoch 17/25\n",
      "8000/8000 [==============================] - 1399s 175ms/step - loss: 0.0254 - acc: 0.9916 - val_loss: 2.4195 - val_acc: 0.7572\n",
      "Epoch 18/25\n",
      "8000/8000 [==============================] - 1400s 175ms/step - loss: 0.0243 - acc: 0.9921 - val_loss: 2.5355 - val_acc: 0.7453\n",
      "Epoch 19/25\n",
      "8000/8000 [==============================] - 1381s 173ms/step - loss: 0.0228 - acc: 0.9922 - val_loss: 2.4307 - val_acc: 0.7490\n",
      "Epoch 20/25\n",
      "8000/8000 [==============================] - 1412s 176ms/step - loss: 0.0219 - acc: 0.9927 - val_loss: 2.5872 - val_acc: 0.7411\n",
      "Epoch 21/25\n",
      "8000/8000 [==============================] - 1456s 182ms/step - loss: 0.0208 - acc: 0.9932 - val_loss: 2.7629 - val_acc: 0.7414\n",
      "Epoch 22/25\n",
      "8000/8000 [==============================] - 1448s 181ms/step - loss: 0.0202 - acc: 0.9933 - val_loss: 2.6197 - val_acc: 0.7561\n",
      "Epoch 23/25\n",
      "8000/8000 [==============================] - 1500s 188ms/step - loss: 0.0193 - acc: 0.9936 - val_loss: 2.6497 - val_acc: 0.7511\n",
      "Epoch 24/25\n",
      "8000/8000 [==============================] - 1543s 193ms/step - loss: 0.0188 - acc: 0.9937 - val_loss: 2.7453 - val_acc: 0.7476\n",
      "Epoch 25/25\n",
      "8000/8000 [==============================] - 1591s 199ms/step - loss: 0.0178 - acc: 0.9942 - val_loss: 2.7167 - val_acc: 0.7401\n"
     ]
    },
    {
     "data": {
      "text/plain": [
       "<tensorflow.python.keras.callbacks.History at 0x7f392470e9e8>"
      ]
     },
     "execution_count": 14,
     "metadata": {},
     "output_type": "execute_result"
    }
   ],
   "source": [
    "classifier.fit_generator(training_set,\n",
    "                         steps_per_epoch = 8000,\n",
    "                         epochs = 25,\n",
    "                         validation_data = test_set,\n",
    "                         validation_steps = 2000)"
   ]
  }
 ],
 "metadata": {
  "kernelspec": {
   "display_name": "Python 3",
   "language": "python",
   "name": "python3"
  },
  "language_info": {
   "codemirror_mode": {
    "name": "ipython",
    "version": 3
   },
   "file_extension": ".py",
   "mimetype": "text/x-python",
   "name": "python",
   "nbconvert_exporter": "python",
   "pygments_lexer": "ipython3",
   "version": "3.7.4"
  }
 },
 "nbformat": 4,
 "nbformat_minor": 2
}
